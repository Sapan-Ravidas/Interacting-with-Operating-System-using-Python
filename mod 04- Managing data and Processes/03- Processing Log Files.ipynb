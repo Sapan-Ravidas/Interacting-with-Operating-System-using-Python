{
 "cells": [
  {
   "cell_type": "markdown",
   "metadata": {},
   "source": [
    "# Processing log files"
   ]
  },
  {
   "cell_type": "markdown",
   "metadata": {},
   "source": [
    "### What are Log Files"
   ]
  },
  {
   "cell_type": "markdown",
   "metadata": {},
   "source": [
    "The different events that happen in programs that are running in a system and aren't connected to terminal are usually rent log files. Log files contain a lot of useful information, particularly when\n",
    "you're trying to debug a tricky problem that's happening on a computer. \n",
    "\n",
    "On the flip side, sometimes it can be overwhelming to try to find something inside of a log file that contains a whole lot of lines with a whole lot of things in them. So it's a good idea to learn how we can process these files and get our tools to extract information that we want out of them. \n",
    "\n",
    "To do this we'll go back to our knowledge of regular expressions. Using regex's in our scripts gives us a great deal of flexibility when processing log files and other texts data sources too.\n",
    "\n",
    "In a script, we can program any kind of behavior we want, so we can manipulate and process text data and get results we need.\n",
    "\n"
   ]
  },
  {
   "cell_type": "markdown",
   "metadata": {},
   "source": [
    "For example, to open a file received as a parameter of our script, we can use code like this one. \n"
   ]
  },
  {
   "cell_type": "code",
   "execution_count": null,
   "metadata": {},
   "outputs": [],
   "source": [
    "# we have to create a python script to read a log of users running CRON jobs\n",
    "\n",
    "\n",
    "import sys\n",
    "\n",
    "logfile = sys.argv[1] # The script needs to accept a command line argument for the path to the log file.\n",
    "with open(logfile) as f:\n",
    "    for line in f:\n",
    "        print(line.strip())"
   ]
  },
  {
   "cell_type": "markdown",
   "metadata": {},
   "source": [
    "Remember that for performance reasons, when files are large, it's generally a good practice to read them line by line instead of loading the entire contents into memory. \n",
    "\n",
    "For our example, let's say the log file contains these messages."
   ]
  },
  {
   "cell_type": "raw",
   "metadata": {},
   "source": [
    "Jul 6 14:01:23 computer.name CRON[29440]: USER (good_user)\n",
    "Jul 6 14:02:08 computer.name jam_tag=psim[29187]: (UUID:006)\n",
    "Jul 6 14:02:09 computer.name jam_tag=psim[29187]: (UUID:007)\n",
    "Jul 6 14:03:01 computer.name CRON[29440]: USER (naughty_user)\n",
    "Jul 6 14:03:40 computer.name cacheclient[291807]: start syncing from \"0xDEADBEEF\"\n",
    "Jul 6 14:04:01 computer.name CRON[29440]: USER (naughty_user)\n",
    "Jul 6 14:05:01 computer.name CRON[29440]: USER (naughty_user)"
   ]
  },
  {
   "cell_type": "markdown",
   "metadata": {},
   "source": [
    "\n",
    "\n",
    "The server that generates this log file has been acting strangely and we suspect it's due to a **Cron job** started by one of the system administrators.\n",
    "\n",
    "**Cron jobs** are used to schedule scripts on UNIX-based operating systems. To find out what's happening with the server, we want to audit the log files and see exactly who's been launching CRON jobs.\n",
    "\n",
    "By looking at the sample log, we can see that the lines that'll be most interesting to us are the ones that contain the Cron substring. \n",
    "\n",
    "These lines also show the user who started the Cron job wrapped in parentheses. With this info, we can ignore any line without the\n",
    "Cron substring in it. \n",
    "\n",
    "We can check for this using the **in** keyword. "
   ]
  },
  {
   "cell_type": "code",
   "execution_count": null,
   "metadata": {},
   "outputs": [],
   "source": [
    "import sys\n",
    "\n",
    "logfile = sys.argv[1]\n",
    "with open(logfile) as f:\n",
    "    for line in f:\n",
    "        if \"CRON\" not in line:\n",
    "            continue\n",
    "        print(line.strip())"
   ]
  },
  {
   "cell_type": "code",
   "execution_count": 6,
   "metadata": {},
   "outputs": [
    {
     "name": "stdout",
     "output_type": "stream",
     "text": [
      "<re.Match object; span=(42, 61), match='USER (naughty_user)'>\n",
      "naughty_user\n"
     ]
    }
   ],
   "source": [
    "import re\n",
    "\n",
    "pattern = \"USER \\((\\w+)\\)$\"\n",
    "line= \"Jul 6 14:03:01 computer.name CRON[29440]: USER (naughty_user)\"\n",
    "result= re.search(pattern, line)\n",
    "print(result)\n",
    "print(result[1])"
   ]
  },
  {
   "cell_type": "code",
   "execution_count": null,
   "metadata": {},
   "outputs": [],
   "source": [
    "# final code\n",
    "\n",
    "import sys\n",
    "\n",
    "logfile = sys.argv[1]\n",
    "with open(logfile) as f:\n",
    "    for line in f:\n",
    "        if \"CRON\" not in line:\n",
    "            continue\n",
    "        pattern = \"USER \\((\\w+)\\)$\"\n",
    "        result= re.search(pattern, line)\n",
    "        print(result[1])"
   ]
  },
  {
   "cell_type": "code",
   "execution_count": null,
   "metadata": {},
   "outputs": [],
   "source": []
  },
  {
   "cell_type": "code",
   "execution_count": null,
   "metadata": {},
   "outputs": [],
   "source": []
  },
  {
   "cell_type": "markdown",
   "metadata": {},
   "source": [
    "### Making Sense out of Data"
   ]
  },
  {
   "cell_type": "markdown",
   "metadata": {},
   "source": [
    "we're taking the current value in the dictionary by passing a default value of zero, so that when the key is in present in the dictionary, we had a default value. We then add one and set it as a new\n",
    "value associated with that key. \n"
   ]
  },
  {
   "cell_type": "code",
   "execution_count": 8,
   "metadata": {},
   "outputs": [
    {
     "name": "stdout",
     "output_type": "stream",
     "text": [
      "{'good_user': 1}\n",
      "{'good_user': 2}\n"
     ]
    }
   ],
   "source": [
    "username= {}\n",
    "name= \"good_user\"\n",
    "username[name] = username.get(name, 0) + 1\n",
    "print(username)\n",
    "username[name] = username.get(name, 0) + 1\n",
    "print(username)"
   ]
  },
  {
   "cell_type": "markdown",
   "metadata": {},
   "source": [
    "\n",
    "We need to initialize an empty dictionary to begining of our code"
   ]
  },
  {
   "cell_type": "code",
   "execution_count": null,
   "metadata": {},
   "outputs": [],
   "source": [
    "import sys\n",
    "\n",
    "logfile = sys.argv[1]\n",
    "username= {}\n",
    "\n",
    "with open(logfile) as f:\n",
    "    for line in f:\n",
    "        if \"CRON\" not in line:\n",
    "            continue\n",
    "        pattern = \"USER \\((\\w+)\\)$\"\n",
    "        result= re.search(pattern, line)\n",
    "        \n",
    "        if result is None:\n",
    "            continue\n",
    "        name= result[1]\n",
    "        username[name] = username.get(name, 0) +1\n",
    "        \n",
    "print(username)"
   ]
  }
 ],
 "metadata": {
  "kernelspec": {
   "display_name": "Python 3",
   "language": "python",
   "name": "python3"
  },
  "language_info": {
   "codemirror_mode": {
    "name": "ipython",
    "version": 3
   },
   "file_extension": ".py",
   "mimetype": "text/x-python",
   "name": "python",
   "nbconvert_exporter": "python",
   "pygments_lexer": "ipython3",
   "version": "3.7.6"
  }
 },
 "nbformat": 4,
 "nbformat_minor": 4
}
