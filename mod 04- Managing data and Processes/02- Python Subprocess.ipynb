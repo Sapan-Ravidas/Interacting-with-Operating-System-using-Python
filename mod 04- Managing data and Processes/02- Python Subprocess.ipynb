{
 "cells": [
  {
   "cell_type": "markdown",
   "metadata": {},
   "source": [
    "# Python Subprocesses"
   ]
  },
  {
   "cell_type": "markdown",
   "metadata": {},
   "source": [
    "### Running System Command in Our Script"
   ]
  },
  {
   "cell_type": "markdown",
   "metadata": {},
   "source": [
    "if we needed to run a system program from a Python script? Say, for example, that as part of a Python script, we needed to send ICMP packets to a host to check if it's responding.\n",
    "\n",
    "We could try to look for an external module that provides this functionality. Or we can just run the ping command, which will send packets for us.\n",
    "\n",
    "Sometimes it's easier or faster to use a system command as part of our Python script to accomplish a task, or use some functionality that doesn't exist in the Python modules, neither built in or external.\n",
    "\n",
    "For these cases, Python provides a way to execute system commands in scripts, using functions provided by the subprocess module.\n",
    "\n",
    "Let's check out an example. First, we'll import a subprocess module, and then we'll call the date command, which shows the current date usingthe subprocess.run function.\n",
    "\n",
    "The run function returns an object of the CompletedProcess type. This object includes information related to the execution of the command.\n"
   ]
  },
  {
   "cell_type": "code",
   "execution_count": 1,
   "metadata": {},
   "outputs": [
    {
     "name": "stdout",
     "output_type": "stream",
     "text": [
      "CompletedProcess(args=['date'], returncode=0)\n"
     ]
    }
   ],
   "source": [
    "import subprocess\n",
    "print(subprocess.run([\"date\"]))"
   ]
  },
  {
   "cell_type": "markdown",
   "metadata": {},
   "source": [
    "To run the external command a secondary environment is created for the child process or subprocess where the command is executed.\n",
    "\n",
    "While the parent process, which is our script, is waiting on the subprocess to finish,it's blocked, which means that the parent can't do any work until the child finishes.\n",
    "\n",
    "After the external command completes its work, the child process exits and the flow of control returns to the parent. Then the script can continue with normal execution."
   ]
  },
  {
   "cell_type": "code",
   "execution_count": 2,
   "metadata": {},
   "outputs": [
    {
     "name": "stdout",
     "output_type": "stream",
     "text": [
      "CompletedProcess(args=['sleep', '2'], returncode=0)\n"
     ]
    }
   ],
   "source": [
    "print(subprocess.run([\"sleep\", \"2\"]))"
   ]
  },
  {
   "cell_type": "code",
   "execution_count": 3,
   "metadata": {},
   "outputs": [],
   "source": [
    "result= subprocess.run([\"ls\", \"area.py\"]) #the file exists so the return code be 0"
   ]
  },
  {
   "cell_type": "code",
   "execution_count": 4,
   "metadata": {},
   "outputs": [
    {
     "name": "stdout",
     "output_type": "stream",
     "text": [
      "0\n"
     ]
    }
   ],
   "source": [
    "print(result.returncode)"
   ]
  },
  {
   "cell_type": "code",
   "execution_count": 5,
   "metadata": {},
   "outputs": [],
   "source": [
    "result= subprocess.run([\"ls\", \"file_doesnot_exists.txt\"])  #file doesnot exist"
   ]
  },
  {
   "cell_type": "code",
   "execution_count": 6,
   "metadata": {},
   "outputs": [
    {
     "name": "stdout",
     "output_type": "stream",
     "text": [
      "2\n"
     ]
    }
   ],
   "source": [
    "print(result.returncode)"
   ]
  },
  {
   "cell_type": "code",
   "execution_count": 7,
   "metadata": {
    "scrolled": true
   },
   "outputs": [
    {
     "name": "stdout",
     "output_type": "stream",
     "text": [
      "CompletedProcess(args=['ls', 'file_doesnot_exists.txt'], returncode=2)\n"
     ]
    }
   ],
   "source": [
    "print(result)"
   ]
  },
  {
   "cell_type": "markdown",
   "metadata": {},
   "source": [
    "LS will print an error and return an exit status different than 0.\n",
    "\n",
    "This will be stored in the return code attribute of the completed process instance, and\n",
    "we can access that value in our code. We can see that the command failed and\n",
    "the returncode stored was 2, letting us know that there was an error.\n",
    "\n",
    "We could use this information in the script to do something different in case the failure.\n",
    "Using the run function like this is useful if we just want to run a command and only care about whether or\n",
    "not it was successful. \n",
    "\n",
    "The output of the command will be printed to the screen, which means that our script\n",
    "has no control over it. This can be handy for system commands that either don't have useful output like cp,\n",
    "chmod, sleep, and many others, or when we don't care about processing the output any further.\n",
    "\n",
    "In other words, when it's just fine to have the output, print it to the screen.\n",
    "For example, if we're writing a script that's changing the permissions of a bunch of files in a tree of directories,\n",
    "\n",
    "we don't care about the output of the chmod command. \n",
    "We only want to know if it was successful or not.\n",
    "\n",
    "If instead, we want to capture the output of an external command and then operate with the results,\n",
    "we need a different strategy."
   ]
  },
  {
   "cell_type": "raw",
   "metadata": {},
   "source": []
  },
  {
   "cell_type": "markdown",
   "metadata": {},
   "source": []
  },
  {
   "cell_type": "markdown",
   "metadata": {},
   "source": [
    "### Obtainig output of a System Commnad"
   ]
  },
  {
   "cell_type": "markdown",
   "metadata": {},
   "source": [
    "If we want our Python scripts to manipulate the output of system commandm that we're executing, we need to tell the run function to capture it for us.\n",
    "\n",
    "This might be helpful when we need to extract information from a command and then use it for something\n",
    "else in our script. \n",
    "\n",
    "For example, say you wanted to create some stats on which users are logging into a server throughout the day. You could do this with a script that calls the **who** command, which prints the users currently logged into a computer. \n",
    "\n",
    "The script could parse the output of the command, storing the list of\n",
    "logged-in users once per hour and at the end of the date to generate\n",
    "a daily report.\n",
    "\n",
    "To be able to process the output of commands, we'll set a parameter\n",
    "called **capture output** to **true** when calling the run function. \n",
    "\n",
    "For our next example, we'll call the **host** command, which can convert a host name to an IP address and vice versa.\n"
   ]
  },
  {
   "cell_type": "code",
   "execution_count": 8,
   "metadata": {},
   "outputs": [
    {
     "name": "stdout",
     "output_type": "stream",
     "text": [
      "0\n"
     ]
    }
   ],
   "source": [
    "res= subprocess.run([\"host\", \"8.8.8.8\"], capture_output= True)\n",
    "print(res.returncode)"
   ]
  },
  {
   "cell_type": "code",
   "execution_count": 9,
   "metadata": {},
   "outputs": [
    {
     "name": "stdout",
     "output_type": "stream",
     "text": [
      "b'8.8.8.8.in-addr.arpa domain name pointer dns.google.\\n'\n"
     ]
    }
   ],
   "source": [
    "print(res.stdout)"
   ]
  },
  {
   "cell_type": "markdown",
   "metadata": {},
   "source": [
    "\n",
    "that **b** tells us that this string is not a proper string for Python. It's actually an array of bytes.\n",
    "\n",
    "Data in computers is stored and transmitted in bytes and each can represent up to 256 characters. But there are thousands of\n",
    "possible characters out there used to write in various languages. \n",
    "\n",
    "Chinese, for example, requires over 10,000 different characters. To be able to write in those languages, several specifications called encodings have been created over time to indicate which sequences of bytes represent which characters.\n",
    "\n",
    "Nowadays, most people use UTF-8 encoding, which is part of the\n",
    "Unicode standard that lists all the possible characters that can be represented. \n",
    "\n",
    "So going back to our example when we execute the command using run, Python doesn't know which encoding to use to process the output of the command. \n",
    "\n",
    "So it simply represents it as a series of bytes. If we want this to\n",
    "become a proper string, we can call the decode method. This method applies an encoding to transform the bytes into a string. \n",
    "\n",
    "By default, it uses a UTF-8 encoding which is what we want. So with all that said, let's transform our array of bytes into a string and then split it into several pieces. "
   ]
  },
  {
   "cell_type": "code",
   "execution_count": 10,
   "metadata": {},
   "outputs": [
    {
     "name": "stdout",
     "output_type": "stream",
     "text": [
      "['8.8.8.8.in-addr.arpa', 'domain', 'name', 'pointer', 'dns.google.']\n"
     ]
    }
   ],
   "source": [
    "print(res.stdout.decode().split())"
   ]
  },
  {
   "cell_type": "markdown",
   "metadata": {},
   "source": [
    "\n",
    "In this way, we're operating with the output of the command that we ran, and we can do whatever we need to do with it.\n",
    "\n",
    "For example, we can choose to keep the last element of the list, which is the name that corresponds to the IP that we're looking for.\n",
    "\n",
    "\n",
    "But what about standard error? \n",
    "If we use the capture output parameter and the command writes any\n",
    "output to standard error, it will be stored in the **stderr** attribute of the completed process instance.\n",
    "\n"
   ]
  },
  {
   "cell_type": "code",
   "execution_count": 11,
   "metadata": {},
   "outputs": [
    {
     "name": "stdout",
     "output_type": "stream",
     "text": [
      "1\n"
     ]
    }
   ],
   "source": [
    "result= subprocess.run([\"rm\", \"doesnot_exists\"], capture_output= True)\n",
    "print(result.returncode)"
   ]
  },
  {
   "cell_type": "code",
   "execution_count": 12,
   "metadata": {},
   "outputs": [
    {
     "name": "stdout",
     "output_type": "stream",
     "text": [
      "b''\n"
     ]
    }
   ],
   "source": [
    "print(result.stdout)"
   ]
  },
  {
   "cell_type": "code",
   "execution_count": 13,
   "metadata": {},
   "outputs": [
    {
     "name": "stdout",
     "output_type": "stream",
     "text": [
      "b\"rm: cannot remove 'doesnot_exists': No such file or directory\\n\"\n"
     ]
    }
   ],
   "source": [
    "print(result.stderr)"
   ]
  },
  {
   "cell_type": "code",
   "execution_count": null,
   "metadata": {},
   "outputs": [],
   "source": []
  },
  {
   "cell_type": "code",
   "execution_count": null,
   "metadata": {},
   "outputs": [],
   "source": []
  },
  {
   "cell_type": "code",
   "execution_count": null,
   "metadata": {},
   "outputs": [],
   "source": []
  },
  {
   "cell_type": "markdown",
   "metadata": {},
   "source": [
    "### Advanced Subprocess Management"
   ]
  },
  {
   "cell_type": "markdown",
   "metadata": {},
   "source": [
    "one way of providing information to our processes is to modify the\n",
    "environment variables. Using this mechanism, we can change where the process looks for executable files, which commands it uses interact with some parts of the system, the kind of output it'll generate and a bunch more things. \n",
    "\n",
    "The usual strategy for modifying the environment of a child process is to first copy the environment seen by our process, do any necessary changes, and then pass that as the environment that the\n",
    "child process will see. \n"
   ]
  },
  {
   "cell_type": "code",
   "execution_count": null,
   "metadata": {},
   "outputs": [],
   "source": [
    "import os\n",
    "import subprocess\n",
    "\n",
    "my_env= os.environ.copy()\n",
    "#my_env[\"PATH\"] = os.pathsep.join([\"/home/sapan/anaconda3/\", my_env[\"PATH\"]])\n",
    "my_env[\"PATH\"]= os.pathsep.join([\"/home/sapan/anaconda3/myapp\", my_env[\"PATH\"]])\n",
    "\n",
    "result= subprocess.run([\"myapp\"], env= my_env)"
   ]
  },
  {
   "cell_type": "markdown",
   "metadata": {},
   "source": [
    "So in this code, we start by calling the **copy** method of the OS environ dictionary that contains the current environment variables.\n",
    "\n",
    "This creates a new dictionary that we can change as needed without modifying the original environment.\n",
    "\n",
    "The change that we're doing in this script is adding one extra directory to the path variable.\n",
    "\n",
    "Remember, the path variable indicates where the operating system will look for the executable programs. By adding one entry to the path, we're telling the OS to look for programs in an\n",
    "additional location. \n",
    "\n",
    "To create the new value, we're calling the join method on the OS path substring. This joins elements of the list that we're passing with a path separator corresponding to the current operating system. \n",
    "\n",
    "So here, we're joining **/opt/myapp/** and the old value of the path variable to the path separator.\n",
    "\n",
    "Finally, we call the **myapp** command, setting the env parameter to the new environment that we've just prepared.\n",
    "\n",
    "So to recap, this script is modifying the contents of the\n",
    "path environment variable by adding a directory to it.\n",
    "\n",
    "We then call the **myapp** command with that modified variable. Doing it this way, the command will run in the modified environment with the updated value of path.\n",
    "\n",
    "\n",
    "\n",
    "\n",
    "\n",
    "There are a bunch more options that we can use with the run function. \n",
    "\n",
    "For example, we can use the **CWD** parameter to change the current\n",
    "working directory where the command will be executed. This can be really helpful when working with a set of directories where you need to run a command on each of them. \n",
    "\n",
    "We could also set the **timeout** parameter. This will cause the run\n",
    "function to kill the process if it takes longer than a given number of seconds to finish.\n",
    "This might be useful if you're running a command that you\n",
    "know might get stuck. For example, if it'strying to connect to a network and your computer is offline,\n",
    "\n",
    "or we can also set the **shell** parameter. If we set this to true, Python will first execute an instance of the default system shell and then run the given command inside of it. \n",
    "\n",
    "This means our command line could include variable expansions and\n",
    "other shell operations. Without the **shell** parameter, this would not be possible. \n",
    "\n",
    "\n",
    "\n",
    "For now, just keep in mind that if you need to expand variables or globs, you'll need to set this parameter. But using this can be a security risk. So make sure you actually need it and be careful when\n",
    "using it if you do. \n",
    "\n",
    "\n",
    "\n",
    "\n",
    "a word of caution. Interfacing the underlying system directly in your Python scripts via subprocesses and system commands can be useful especially if you need to do a specific task quickly. \n",
    "\n",
    "But it comes with some drawbacks. Using these system-level commands built assumptions into our scripts about the infrastructure, our automation will run on. If those assumptions change, it can lead to unexpected effects or failures. These kinds of assumptions\n",
    "can change in multiple ways.\n",
    "\n",
    "What would happen to our automation is the flags where terminal command change and our script continues to use the old flags? \n",
    "What happens if we switch operating systems from Linux to Windows? Will our scripts fail outright or will they succeed in unintended and\n",
    "possibly harmful ways? \n",
    "\n",
    "Any change to the system or external commands our scripts use increases the chances of something breaking. Sometimes that break might be obvious and other times it might be difficult to detect.\n",
    "\n",
    "If we're automating a one-off, well-defined task, we're developing a solution quickly is the biggest requirement, then using system commands and subprocesses can help a lot. \n",
    "\n",
    "But if we're doing something more complex or long-running, it's usually a good idea to use the bait in or external modules\n",
    "that Python provides. \n",
    "\n",
    "So before deciding to use a sub processes, it's a good idea to check the standard library or **pypi** repository to see if we can do the task with native Python and to check if someone has already created the automation that we wanted to write. \n",
    "\n",
    "Remember that we never want to reinvent the wheel. \n",
    "\n",
    "\n",
    "\n"
   ]
  },
  {
   "cell_type": "code",
   "execution_count": null,
   "metadata": {},
   "outputs": [],
   "source": []
  }
 ],
 "metadata": {
  "kernelspec": {
   "display_name": "Python 3",
   "language": "python",
   "name": "python3"
  },
  "language_info": {
   "codemirror_mode": {
    "name": "ipython",
    "version": 3
   },
   "file_extension": ".py",
   "mimetype": "text/x-python",
   "name": "python",
   "nbconvert_exporter": "python",
   "pygments_lexer": "ipython3",
   "version": "3.7.6"
  }
 },
 "nbformat": 4,
 "nbformat_minor": 4
}
